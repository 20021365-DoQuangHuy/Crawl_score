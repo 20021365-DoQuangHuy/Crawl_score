{
  "nbformat": 4,
  "nbformat_minor": 0,
  "metadata": {
    "colab": {
      "name": "CrawlScore.ipynb",
      "provenance": [],
      "collapsed_sections": [],
      "authorship_tag": "ABX9TyPG79drPbWghjEiJOjiOPin",
      "include_colab_link": true
    },
    "kernelspec": {
      "name": "python3",
      "display_name": "Python 3"
    },
    "language_info": {
      "name": "python"
    }
  },
  "cells": [
    {
      "cell_type": "markdown",
      "metadata": {
        "id": "view-in-github",
        "colab_type": "text"
      },
      "source": [
        "<a href=\"https://colab.research.google.com/github/20021365-DoQuangHuy/Crawl_score/blob/main/CrawlScore.ipynb\" target=\"_parent\"><img src=\"https://colab.research.google.com/assets/colab-badge.svg\" alt=\"Open In Colab\"/></a>"
      ]
    },
    {
      "cell_type": "code",
      "metadata": {
        "id": "FTRJRLOOux_8"
      },
      "source": [
        "# Import and constant data\n",
        "from html.parser import HTMLParser\n",
        "import requests\n",
        "\n",
        "cookies = {\n",
        "    '__RC': '10',\n",
        "    '__R': '1',\n",
        "    '__tb': '0',\n",
        "    '__io_first_source': 'l.facebook.com',\n",
        "    'G_ENABLED_IDPS': 'google',\n",
        "    'AviviD_sw_version': '1.0.868.210701',\n",
        "    '__UF': '-1',\n",
        "    'AviviD_refresh_uuid_status': '2',\n",
        "    'fg_lastUpdate': '1625799999749',\n",
        "    '_io_ht_r': '1',\n",
        "    'AviviD_show_sub': '1',\n",
        "    'AviviD_already_exist': '1',\n",
        "    'ePi.log.contentview': '^[^{^\\\\^d^\\\\^:27121116,^\\\\^v^\\\\^:^\\\\^,1093054_1,^\\\\^^}^]',\n",
        "    '__io_r': 'google.com',\n",
        "    '__io_d': '1_1252570832',\n",
        "    '__io_pr_utm_campaign': '^%^7B^%^22referrerHostname^%^22^%^3A^%^22www.google.com^%^22^%^7D',\n",
        "    '__io_session_id': '0cc0faf77.8b8b22d7c_1627266978670',\n",
        "    '__io_nav_state': '^%^7B^%^22current^%^22^%^3A^%^22^%^2Fcontent^%^2FMTA5MzA1NA^%^3D^%^3D.html^%^22^%^2C^%^22currentDomain^%^22^%^3A^%^22thanhnien.vn^%^22^%^2C^%^22previousDomain^%^22^%^3A^%^22^%^22^%^7D',\n",
        "    '__io_unique_26526': '26',\n",
        "    '__io_uh': '1',\n",
        "    '__io_visit_26526': '1',\n",
        "    '__io_unique_39233': '26',\n",
        "    '__io_visit_39233': '1',\n",
        "    'AviviD_waterfall_status': '0',\n",
        "    'AviviD_token_retake': '0',\n",
        "    'siteCookie': '685',\n",
        "    'admpshow': 'd^%^2Ca^%^2Ca1',\n",
        "    '_gat': '1',\n",
        "    'page_view': '5',\n",
        "    \n",
        "}\n",
        "\n",
        "headers = {\n",
        "    'authority': 'thanhnien.vn',\n",
        "    'sec-ch-ua': '^\\\\^Chromium^\\\\^;v=^\\\\^92^\\\\^, ^\\\\^',\n",
        "    'accept': '*/*',\n",
        "    'x-requested-with': 'XMLHttpRequest',\n",
        "    'sec-ch-ua-mobile': '?0',\n",
        "    'user-agent': 'Mozilla/5.0 (Windows NT 10.0; Win64; x64) AppleWebKit/537.36 (KHTML, like Gecko) Chrome/92.0.4515.107 Safari/537.36 Edg/92.0.902.55',\n",
        "    'sec-fetch-site': 'same-origin',\n",
        "    'sec-fetch-mode': 'cors',\n",
        "    'sec-fetch-dest': 'empty',\n",
        "    'referer': 'https://thanhnien.vn/giao-duc/tuyen-sinh/2021/tra-cuu-diem-thi-thpt-quoc-gia.html',\n",
        "    'accept-language': 'en-US,en;q=0.9,vi;q=0.8',\n",
        "}\n",
        "\n",
        "#NB. Original query string below. It seems impossible to parse and\n",
        "#reproduce query strings 100% accurately so the one below is given\n",
        "#in case the reproduced version is not \"correct\".\n",
        "# response = requests.get('https://thanhnien.vn/ajax/diemthi.aspx?kythi=THPT&nam=2021&city=DDT&text=19009935&top=no', headers=headers, cookies=cookies)\n"
      ],
      "execution_count": null,
      "outputs": []
    },
    {
      "cell_type": "code",
      "metadata": {
        "id": "lCBICWiP8_pi"
      },
      "source": [
        "# Class and functions used\n",
        "class AlphaCandidateHTMLParser(HTMLParser):\n",
        "    def __init__(self):\n",
        "        HTMLParser.__init__(self)\n",
        "        self.cur_list = []\n",
        "        self.count = 0\n",
        "        self.data = -1.0\n",
        "        self.read = False\n",
        "        self.sbd = []\n",
        "        self.sbd_append = False\n",
        "    def handle_starttag(self, tag, attrs):\n",
        "      if tag == 'td':\n",
        "        if self.count == 3:\n",
        "          self.sbd_append = True\n",
        "        else:\n",
        "          self.sbd_append = False\n",
        "\n",
        "        if self.count >= 6 and self.count <= 16:\n",
        "          self.read = True\n",
        "          self.data = -1.0\n",
        "        else:\n",
        "          self.read = False\n",
        "        self.count += 1\n",
        "    def handle_data(self, data):\n",
        "      if self.read:\n",
        "        self.data = float(data)\n",
        "        self.cur_list.append(self.data)\n",
        "      elif self.sbd_append:\n",
        "        self.sbd.append(data)\n",
        "    def handle_endtag(self, tag):\n",
        "      if tag == 'td':\n",
        "        if self.read and self.data == -1.0:\n",
        "          self.cur_list.append(0.0)\n",
        "      if tag == 'tr':\n",
        "        self.count = 0\n",
        "\n",
        "class alphaCandidate:\n",
        "    def __init__(self):\n",
        "      self.storage = []\n",
        "    def parse_0(self, response):\n",
        "      parser = AlphaCandidateHTMLParser()\n",
        "      parser.feed(response.content.decode(\"utf-8\"))\n",
        "      #print(parser.sbd)\n",
        "      #print(parser.cur_list)\n",
        "      for i in range(int(len(parser.cur_list) / 11)):\n",
        "        score_list = {\n",
        "          \"SBD\": \"\",\n",
        "          \"Toan\":0.0,\n",
        "          \"Van\": 0.0,\n",
        "          \"Ly\":0.0,\n",
        "          \"Hoa\": 0.0,\n",
        "          \"Sinh\":0.0,\n",
        "          \"Khtn\":0.0,\n",
        "          \"Su\":0.0,\n",
        "          \"Dia\":0.0,\n",
        "          \"GDCD\":0.0,\n",
        "          \"Khxh\":0.0,\n",
        "          \"Anh\":0.0,\n",
        "        }\n",
        "        score_list[\"SBD\"] = parser.sbd[i]\n",
        "        score_list[\"Toan\"] = parser.cur_list[11 * i + 0]\n",
        "        score_list[\"Van\"] = parser.cur_list[11 * i +1]\n",
        "        score_list[\"Ly\"] = parser.cur_list[11 * i +2]\n",
        "        score_list[\"Hoa\"] = parser.cur_list[11 * i +3]\n",
        "        score_list[\"Sinh\"] = parser.cur_list[11 * i +4]\n",
        "        score_list[\"Khtn\"] = parser.cur_list[11 * i +5]\n",
        "        score_list[\"Su\"] = parser.cur_list[11 * i +6]\n",
        "        score_list[\"Dia\"] = parser.cur_list[11 * i +7]\n",
        "        score_list[\"GDCD\"] = parser.cur_list[11 * i +8]\n",
        "        score_list[\"Khxh\"] = parser.cur_list[11 * i +9]\n",
        "        score_list[\"Anh\"] = parser.cur_list[11 * i +10]\n",
        "        self.storage.append(score_list)"
      ],
      "execution_count": null,
      "outputs": []
    },
    {
      "cell_type": "code",
      "metadata": {
        "id": "prON8ljmF-Dl"
      },
      "source": [
        "# Main function\n",
        "# SBD khong ton tai:\n",
        "#   response.content == b'\\n'\n",
        "# Thu tu cac mon:\n",
        "#   Toán (D1); \n",
        "#   Ngữ văn (D2); \n",
        "#   Vật lí (D3); \n",
        "#   Hóa học (D4); \n",
        "#   Sinh học (D5); \n",
        "#   KHTN (D6); \n",
        "#   Lịch sử (D7); \n",
        "#   Địa lí (D8); \n",
        "#   GDCD (D9); \n",
        "#   KHXH (D10); \n",
        "#   Ngoại ngữ (D11)\n",
        "def getScoreList(ma_tinh, start, end):\n",
        "  condition = True\n",
        "  sbd = start\n",
        "  candidate_list = []\n",
        "  while condition:\n",
        "    sbd_str = str(ma_tinh * 10000 + int(sbd / 100))\n",
        "    params = (\n",
        "        ('kythi', 'THPT'),\n",
        "        ('nam', '2021'),\n",
        "        ('city', 'DDT'),\n",
        "        ('text', sbd_str),\n",
        "        ('top', 'no'),\n",
        "    )\n",
        "    response = requests.get('https://thanhnien.vn/ajax/diemthi.aspx', headers=headers, params=params, cookies=cookies)\n",
        "    c = alphaCandidate()\n",
        "    c.parse_0(response)\n",
        "    c.storage.reverse()\n",
        "    candidate_list.extend(c.storage)\n",
        "    sbd += 100\n",
        "    if sbd > end:\n",
        "      condition = False\n",
        "\n",
        "  candidate_list.reverse()\n",
        "  return candidate_list\n"
      ],
      "execution_count": null,
      "outputs": []
    },
    {
      "cell_type": "code",
      "metadata": {
        "colab": {
          "base_uri": "https://localhost:8080/",
          "height": 17
        },
        "id": "PVSKCGnG5gwB",
        "outputId": "21e4ab9f-083d-4d8f-e40f-eb15c797b217"
      },
      "source": [
        "# Thay giá trị tham số của hàm getScoreList và tên csv file nếu muốn tải file về\n",
        "# Nếu chưa rõ SBD kết thúc, hãy tìm trên mạng để có. SBD_ket_thuc quá lớn có thể làm nặng thêm dữ liệu trả về\n",
        "import csv\n",
        "from google.colab import files\n",
        "csv_file = \"Bac_Ninh_full.csv\"\n",
        "myList = []\n",
        "try:\n",
        "  # getScoreList(Ma_tinh, SBD_bat_dau, SBD_ket_thuc)\n",
        "  myList = getScoreList(19, 1, 200)\n",
        "  myList.reverse()\n",
        "  keys = myList[0].keys()\n",
        "  with open(csv_file, 'w', newline='')  as output_file:\n",
        "      dict_writer = csv.DictWriter(output_file, keys)\n",
        "      dict_writer.writeheader()\n",
        "      dict_writer.writerows(myList)\n",
        "except IOError:\n",
        "    print(\"I/O error\")\n",
        "\n",
        "# Lưu file kết quả về máy\n",
        "files.download(csv_file)"
      ],
      "execution_count": null,
      "outputs": [
        {
          "output_type": "display_data",
          "data": {
            "application/javascript": [
              "\n",
              "    async function download(id, filename, size) {\n",
              "      if (!google.colab.kernel.accessAllowed) {\n",
              "        return;\n",
              "      }\n",
              "      const div = document.createElement('div');\n",
              "      const label = document.createElement('label');\n",
              "      label.textContent = `Downloading \"${filename}\": `;\n",
              "      div.appendChild(label);\n",
              "      const progress = document.createElement('progress');\n",
              "      progress.max = size;\n",
              "      div.appendChild(progress);\n",
              "      document.body.appendChild(div);\n",
              "\n",
              "      const buffers = [];\n",
              "      let downloaded = 0;\n",
              "\n",
              "      const channel = await google.colab.kernel.comms.open(id);\n",
              "      // Send a message to notify the kernel that we're ready.\n",
              "      channel.send({})\n",
              "\n",
              "      for await (const message of channel.messages) {\n",
              "        // Send a message to notify the kernel that we're ready.\n",
              "        channel.send({})\n",
              "        if (message.buffers) {\n",
              "          for (const buffer of message.buffers) {\n",
              "            buffers.push(buffer);\n",
              "            downloaded += buffer.byteLength;\n",
              "            progress.value = downloaded;\n",
              "          }\n",
              "        }\n",
              "      }\n",
              "      const blob = new Blob(buffers, {type: 'application/binary'});\n",
              "      const a = document.createElement('a');\n",
              "      a.href = window.URL.createObjectURL(blob);\n",
              "      a.download = filename;\n",
              "      div.appendChild(a);\n",
              "      a.click();\n",
              "      div.remove();\n",
              "    }\n",
              "  "
            ],
            "text/plain": [
              "<IPython.core.display.Javascript object>"
            ]
          },
          "metadata": {
            "tags": []
          }
        },
        {
          "output_type": "display_data",
          "data": {
            "application/javascript": [
              "download(\"download_2491bf26-944c-472c-a1e8-b7e9df484939\", \"Bac_Ninh_full.csv\", 11039)"
            ],
            "text/plain": [
              "<IPython.core.display.Javascript object>"
            ]
          },
          "metadata": {
            "tags": []
          }
        }
      ]
    },
    {
      "cell_type": "code",
      "metadata": {
        "id": "-gyCIixkGLZQ"
      },
      "source": [
        "print(myList)"
      ],
      "execution_count": null,
      "outputs": []
    },
    {
      "cell_type": "markdown",
      "metadata": {
        "id": "gj25kBh03-l1"
      },
      "source": [
        ""
      ]
    }
  ]
}